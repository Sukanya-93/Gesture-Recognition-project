{
 "cells": [
  {
   "cell_type": "markdown",
   "metadata": {},
   "source": [
    "# Gesture Recognition\n",
    "In this group project, you are going to build a 3D Conv model that will be able to predict the 5 gestures correctly. Please import the following libraries to get started."
   ]
  },
  {
   "cell_type": "code",
   "execution_count": 1,
   "metadata": {},
   "outputs": [],
   "source": [
    "import numpy as np\n",
    "import os\n",
    "from scipy.misc import imread, imresize\n",
    "import datetime\n",
    "import os"
   ]
  },
  {
   "cell_type": "markdown",
   "metadata": {},
   "source": [
    "We set the random seed so that the results don't vary drastically."
   ]
  },
  {
   "cell_type": "code",
   "execution_count": 2,
   "metadata": {},
   "outputs": [
    {
     "name": "stderr",
     "output_type": "stream",
     "text": [
      "Using TensorFlow backend.\n"
     ]
    }
   ],
   "source": [
    "np.random.seed(30)\n",
    "import random as rn\n",
    "rn.seed(30)\n",
    "from keras import backend as K\n",
    "import tensorflow as tf\n",
    "tf.set_random_seed(30)"
   ]
  },
  {
   "cell_type": "markdown",
   "metadata": {},
   "source": [
    "In this block, you read the folder names for training and validation. You also set the `batch_size` here. Note that you set the batch size in such a way that you are able to use the GPU in full capacity. You keep increasing the batch size until the machine throws an error."
   ]
  },
  {
   "cell_type": "code",
   "execution_count": 3,
   "metadata": {},
   "outputs": [],
   "source": [
    "train_doc = np.random.permutation(open('Project_data/train.csv').readlines())\n",
    "val_doc = np.random.permutation(open('Project_data/val.csv').readlines())\n",
    "batch_size = 40 #experiment with the batch size"
   ]
  },
  {
   "cell_type": "markdown",
   "metadata": {},
   "source": [
    "## Generator\n",
    "This is one of the most important part of the code. The overall structure of the generator has been given. In the generator, you are going to preprocess the images as you have images of 2 different dimensions as well as create a batch of video frames. You have to experiment with `img_idx`, `y`,`z` and normalization such that you get high accuracy."
   ]
  },
  {
   "cell_type": "code",
   "execution_count": 4,
   "metadata": {},
   "outputs": [],
   "source": [
    "y = 120   # y \n",
    "z = 120   # z \n",
    "x = 30    #FRAMES"
   ]
  },
  {
   "cell_type": "code",
   "execution_count": 5,
   "metadata": {},
   "outputs": [],
   "source": [
    "#data resizing - Resizing all the images, so we can have all the images in a specific size\n",
    "def crop_resize_img(img):\n",
    "    if img.shape[0] != img.shape[1]:\n",
    "        img=img[0:120,10:150]\n",
    "    resized_image = imresize(img, (y,z))\n",
    "    return resized_image"
   ]
  },
  {
   "cell_type": "code",
   "execution_count": 6,
   "metadata": {},
   "outputs": [],
   "source": [
    "#using percentile to deal with outliers in the data.\n",
    "def normalize_image(img):\n",
    "    #using percentile for normalization for images, as min-max is giving better results.\n",
    "    # normalized_image= img - np.percentile(img,15)/ np.percentile(img,85) - np.percentile(img,15) \n",
    "    normalized_image= (img - np.min(img))/(np.max(img)- np.min(img))\n",
    "    return normalized_image"
   ]
  },
  {
   "cell_type": "code",
   "execution_count": 7,
   "metadata": {},
   "outputs": [],
   "source": [
    "def generator(source_path, folder_list, batch_size):\n",
    "    print( 'Source path = ', source_path, '; batch size =', batch_size)\n",
    "    img_idx = [x for x in range(0,x)]  #create a list of image numbers you want to use for a particular video\n",
    "    while True:\n",
    "        t = np.random.permutation(folder_list)\n",
    "        num_batches = len(folder_list) // batch_size # calculate the number of batches\n",
    "        for batch in range(num_batches): # we iterate over the number of batches\n",
    "            batch_data = np.zeros((batch_size,x,y,z,3)) # x is the number of images you use for each video, (y,z) is the final size of the input images and 3 is the number of channels RGB\n",
    "            batch_labels = np.zeros((batch_size,5)) # batch_labels is the one hot representation of the output\n",
    "            for folder in range(batch_size): # iterate over the batch_size\n",
    "                imgs = os.listdir(source_path+'/'+ t[folder + (batch*batch_size)].split(';')[0]) # read all the images in the folder\n",
    "                for idx,item in enumerate(img_idx): #  Iterate iver the frames/images of a folder to read them in\n",
    "                    image = imread(source_path+'/'+ t[folder + (batch*batch_size)].strip().split(';')[0]+'/'+imgs[item]).astype(np.float32)\n",
    "                    \n",
    "                    #crop the images and resize them. Note that the images are of 2 different shape \n",
    "                    #and the conv3D will throw error if the inputs in a batch have different shapes\n",
    "                    resized_image=crop_resize_img(image)\n",
    "                    batch_data[folder,idx,:,:,0] = normalize_image(resized_image[:, : , 0]) #normalise and feed in the image\n",
    "                    batch_data[folder,idx,:,:,1] = normalize_image(resized_image[:, : , 1]) #normalise and feed in the image\n",
    "                    batch_data[folder,idx,:,:,2] = normalize_image(resized_image[:, : , 2]) #normalise and feed in the image\n",
    "                    \n",
    "                batch_labels[folder, int(t[folder + (batch*batch_size)].strip().split(';')[2])] = 1\n",
    "            yield batch_data, batch_labels #you yield the batch_data and the batch_labels, remember what does yield do\n",
    "\n",
    "        \n",
    "        # write the code for the remaining data points which are left after full batches\n",
    "        if (len(folder_list) != batch_size*num_batches):\n",
    "            batch_size = len(folder_list) - (batch_size*num_batches)\n",
    "            batch_data = np.zeros((batch_size,x,y,z,3)) # x is the number of images you use for each video, (y,z) is the final size of the input images and 3 is the number of channels RGB\n",
    "            batch_labels = np.zeros((batch_size,5)) # batch_labels is the one hot representation of the output\n",
    "            for folder in range(batch_size): # iterate over the batch_size\n",
    "                imgs = os.listdir(source_path+'/'+ t[folder + (batch*batch_size)].split(';')[0]) # read all the images in the folder\n",
    "                for idx,item in enumerate(img_idx): #  Iterate iver the frames/images of a folder to read them in\n",
    "                    image = imread(source_path+'/'+ t[folder + (batch*batch_size)].strip().split(';')[0]+'/'+imgs[item]).astype(np.float32)\n",
    "                    \n",
    "                    #crop the images and resize them. Note that the images are of 2 different shape \n",
    "                    #and the conv3D will throw error if the inputs in a batch have different shapes\n",
    "                    \n",
    "                    batch_data[folder,idx,:,:,0] = normalize_image(resized_image[:, : , 0]) #normalise and feed in the image\n",
    "                    batch_data[folder,idx,:,:,1] = normalize_image(resized_image[:, : , 1]) #normalise and feed in the image\n",
    "                    batch_data[folder,idx,:,:,2] = normalize_image(resized_image[:, : , 2]) #normalise and feed in the image\n",
    "                    \n",
    "                batch_labels[folder, int(t[folder + (batch*batch_size)].strip().split(';')[2])] = 1\n",
    "            yield batch_data, batch_labels #you yield the batch_data and the batch_labels, remember what does yield"
   ]
  },
  {
   "cell_type": "markdown",
   "metadata": {},
   "source": [
    "Note here that a video is represented above in the generator as (number of images, height, width, number of channels). Take this into consideration while creating the model architecture."
   ]
  },
  {
   "cell_type": "code",
   "execution_count": 8,
   "metadata": {},
   "outputs": [
    {
     "name": "stdout",
     "output_type": "stream",
     "text": [
      "# training sequences = 663\n",
      "# validation sequences = 100\n",
      "# epochs = 20\n"
     ]
    }
   ],
   "source": [
    "curr_dt_time = datetime.datetime.now()\n",
    "train_path = 'Project_data/train'\n",
    "val_path = 'Project_data/val'\n",
    "num_train_sequences = len(train_doc)\n",
    "print('# training sequences =', num_train_sequences)\n",
    "num_val_sequences = len(val_doc)\n",
    "print('# validation sequences =', num_val_sequences)\n",
    "num_epochs = 20 # choose the number of epochs\n",
    "print ('# epochs =', num_epochs)"
   ]
  },
  {
   "cell_type": "markdown",
   "metadata": {},
   "source": [
    "## Model\n",
    "Here you make the model using different functionalities that Keras provides. Remember to use `Conv3D` and `MaxPooling3D` and not `Conv2D` and `Maxpooling2D` for a 3D convolution model. You would want to use `TimeDistributed` while building a Conv2D + RNN model. Also remember that the last layer is the softmax. Design the network in such a way that the model is able to give good accuracy on the least number of parameters so that it can fit in the memory of the webcam."
   ]
  },
  {
   "cell_type": "code",
   "execution_count": 9,
   "metadata": {},
   "outputs": [],
   "source": [
    "from keras.models import Sequential, Model\n",
    "from keras.layers import Dense, GRU, Flatten, TimeDistributed, Flatten, BatchNormalization, Activation, Dropout\n",
    "from keras.layers.convolutional import Conv3D, MaxPooling3D\n",
    "from keras.callbacks import ModelCheckpoint, ReduceLROnPlateau\n",
    "from keras import optimizers\n",
    "\n",
    "#write your model here\n",
    "# Parameters initialization\n",
    "nb_rows = 120   # X dimension of the image\n",
    "nb_cols = 120   # Y dimesnion of the image\n",
    "#total_frames = 30\n",
    "nb_frames =  30  # lenght of the video frames\n",
    "nb_channel = 3 # numbe rof channels in images 3 for color(RGB) and 1 for Gray\n",
    "\n",
    "nb_filters = [8,16,32,64]\n",
    "nb_dense = [256, 128, 5]\n",
    "\n",
    "# Input\n",
    "input_shape=(nb_frames,nb_rows,nb_cols,nb_channel)\n",
    "\n",
    "# Define model\n",
    "model = Sequential()\n",
    "\n",
    "model.add(Conv3D(nb_filters[0], \n",
    "                 kernel_size=(3,3,3), \n",
    "                 input_shape=input_shape,\n",
    "                 padding='same'))\n",
    "model.add(BatchNormalization())\n",
    "model.add(Activation('relu'))\n",
    "\n",
    "model.add(MaxPooling3D(pool_size=(2,2,2)))\n",
    "\n",
    "model.add(Conv3D(nb_filters[1], \n",
    "                 kernel_size=(3,3,3), \n",
    "                 padding='same'))\n",
    "model.add(BatchNormalization())\n",
    "model.add(Activation('relu'))\n",
    "\n",
    "model.add(MaxPooling3D(pool_size=(2,2,2)))\n",
    "\n",
    "model.add(Conv3D(nb_filters[2], \n",
    "                 kernel_size=(1,3,3), \n",
    "                 padding='same'))\n",
    "model.add(BatchNormalization())\n",
    "model.add(Activation('relu'))\n",
    "\n",
    "model.add(MaxPooling3D(pool_size=(2,2,2)))\n",
    "\n",
    "model.add(Conv3D(nb_filters[3], \n",
    "                 kernel_size=(1,3,3), \n",
    "                 padding='same'))\n",
    "model.add(Activation('relu'))\n",
    "model.add(Dropout(0.25))\n",
    "\n",
    "model.add(MaxPooling3D(pool_size=(2,2,2)))\n",
    "\n",
    "#Flatten Layers\n",
    "model.add(Flatten())\n",
    "\n",
    "model.add(Dense(nb_dense[0], activation='relu'))\n",
    "model.add(Dropout(0.5))\n",
    "\n",
    "model.add(Dense(nb_dense[1], activation='relu'))\n",
    "model.add(Dropout(0.5))\n",
    "\n",
    "#softmax layer\n",
    "model.add(Dense(nb_dense[2], activation='softmax'))"
   ]
  },
  {
   "cell_type": "markdown",
   "metadata": {},
   "source": [
    "Now that you have written the model, the next step is to `compile` the model. When you print the `summary` of the model, you'll see the total number of parameters you have to train."
   ]
  },
  {
   "cell_type": "code",
   "execution_count": 10,
   "metadata": {
    "scrolled": true
   },
   "outputs": [
    {
     "name": "stdout",
     "output_type": "stream",
     "text": [
      "_________________________________________________________________\n",
      "Layer (type)                 Output Shape              Param #   \n",
      "=================================================================\n",
      "conv3d_1 (Conv3D)            (None, 30, 120, 120, 8)   656       \n",
      "_________________________________________________________________\n",
      "batch_normalization_1 (Batch (None, 30, 120, 120, 8)   32        \n",
      "_________________________________________________________________\n",
      "activation_1 (Activation)    (None, 30, 120, 120, 8)   0         \n",
      "_________________________________________________________________\n",
      "max_pooling3d_1 (MaxPooling3 (None, 15, 60, 60, 8)     0         \n",
      "_________________________________________________________________\n",
      "conv3d_2 (Conv3D)            (None, 15, 60, 60, 16)    3472      \n",
      "_________________________________________________________________\n",
      "batch_normalization_2 (Batch (None, 15, 60, 60, 16)    64        \n",
      "_________________________________________________________________\n",
      "activation_2 (Activation)    (None, 15, 60, 60, 16)    0         \n",
      "_________________________________________________________________\n",
      "max_pooling3d_2 (MaxPooling3 (None, 7, 30, 30, 16)     0         \n",
      "_________________________________________________________________\n",
      "conv3d_3 (Conv3D)            (None, 7, 30, 30, 32)     4640      \n",
      "_________________________________________________________________\n",
      "batch_normalization_3 (Batch (None, 7, 30, 30, 32)     128       \n",
      "_________________________________________________________________\n",
      "activation_3 (Activation)    (None, 7, 30, 30, 32)     0         \n",
      "_________________________________________________________________\n",
      "max_pooling3d_3 (MaxPooling3 (None, 3, 15, 15, 32)     0         \n",
      "_________________________________________________________________\n",
      "conv3d_4 (Conv3D)            (None, 3, 15, 15, 64)     18496     \n",
      "_________________________________________________________________\n",
      "activation_4 (Activation)    (None, 3, 15, 15, 64)     0         \n",
      "_________________________________________________________________\n",
      "dropout_1 (Dropout)          (None, 3, 15, 15, 64)     0         \n",
      "_________________________________________________________________\n",
      "max_pooling3d_4 (MaxPooling3 (None, 1, 7, 7, 64)       0         \n",
      "_________________________________________________________________\n",
      "flatten_1 (Flatten)          (None, 3136)              0         \n",
      "_________________________________________________________________\n",
      "dense_1 (Dense)              (None, 256)               803072    \n",
      "_________________________________________________________________\n",
      "dropout_2 (Dropout)          (None, 256)               0         \n",
      "_________________________________________________________________\n",
      "dense_2 (Dense)              (None, 128)               32896     \n",
      "_________________________________________________________________\n",
      "dropout_3 (Dropout)          (None, 128)               0         \n",
      "_________________________________________________________________\n",
      "dense_3 (Dense)              (None, 5)                 645       \n",
      "=================================================================\n",
      "Total params: 864,101\n",
      "Trainable params: 863,989\n",
      "Non-trainable params: 112\n",
      "_________________________________________________________________\n",
      "None\n"
     ]
    }
   ],
   "source": [
    "from keras.optimizers import Adam\n",
    "optimiser = Adam() #write your optimizer\n",
    "model.compile(optimizer=optimiser, loss='categorical_crossentropy', metrics=['categorical_accuracy'])\n",
    "print (model.summary())"
   ]
  },
  {
   "cell_type": "markdown",
   "metadata": {},
   "source": [
    "Let us create the `train_generator` and the `val_generator` which will be used in `.fit_generator`."
   ]
  },
  {
   "cell_type": "code",
   "execution_count": 11,
   "metadata": {},
   "outputs": [],
   "source": [
    "train_generator = generator(train_path, train_doc, batch_size)\n",
    "val_generator = generator(val_path, val_doc, batch_size)"
   ]
  },
  {
   "cell_type": "code",
   "execution_count": 12,
   "metadata": {},
   "outputs": [],
   "source": [
    "model_name = 'model_init' + '_' + str(curr_dt_time).replace(' ','').replace(':','_') + '/'\n",
    "    \n",
    "if not os.path.exists(model_name):\n",
    "    os.mkdir(model_name)\n",
    "        \n",
    "filepath = model_name + 'model-{epoch:05d}-{loss:.5f}-{categorical_accuracy:.5f}-{val_loss:.5f}-{val_categorical_accuracy:.5f}.h5'\n",
    "\n",
    "checkpoint = ModelCheckpoint(filepath, monitor='val_loss', verbose=1, save_best_only=False, save_weights_only=False, mode='auto', period=1)\n",
    "\n",
    "LR = ReduceLROnPlateau(monitor='val_loss', factor=0.5, patience=2, cooldown=1, verbose=1)# write the REducelronplateau code here\n",
    "callbacks_list = [checkpoint, LR]"
   ]
  },
  {
   "cell_type": "markdown",
   "metadata": {},
   "source": [
    "The `steps_per_epoch` and `validation_steps` are used by `fit_generator` to decide the number of next() calls it need to make."
   ]
  },
  {
   "cell_type": "code",
   "execution_count": 13,
   "metadata": {},
   "outputs": [],
   "source": [
    "if (num_train_sequences%batch_size) == 0:\n",
    "    steps_per_epoch = int(num_train_sequences/batch_size)\n",
    "else:\n",
    "    steps_per_epoch = (num_train_sequences//batch_size) + 1\n",
    "\n",
    "if (num_val_sequences%batch_size) == 0:\n",
    "    validation_steps = int(num_val_sequences/batch_size)\n",
    "else:\n",
    "    validation_steps = (num_val_sequences//batch_size) + 1"
   ]
  },
  {
   "cell_type": "markdown",
   "metadata": {},
   "source": [
    "Let us now fit the model. This will start training the model and with the help of the checkpoints, you'll be able to save the model at the end of each epoch."
   ]
  },
  {
   "cell_type": "markdown",
   "metadata": {},
   "source": [
    "### Experiment 1"
   ]
  },
  {
   "cell_type": "code",
   "execution_count": 14,
   "metadata": {},
   "outputs": [
    {
     "name": "stdout",
     "output_type": "stream",
     "text": [
      "Source path =  Project_data/val ; batch size = 40\n",
      "Source path =  Project_data/train ; batch size = 40\n",
      "Epoch 1/20\n"
     ]
    },
    {
     "name": "stderr",
     "output_type": "stream",
     "text": [
      "/mnt/disks/user/anaconda3/lib/python3.6/site-packages/ipykernel_launcher.py:13: DeprecationWarning: `imread` is deprecated!\n",
      "`imread` is deprecated in SciPy 1.0.0, and will be removed in 1.2.0.\n",
      "Use ``imageio.imread`` instead.\n",
      "  del sys.path[0]\n",
      "/mnt/disks/user/anaconda3/lib/python3.6/site-packages/ipykernel_launcher.py:5: DeprecationWarning: `imresize` is deprecated!\n",
      "`imresize` is deprecated in SciPy 1.0.0, and will be removed in 1.2.0.\n",
      "Use ``skimage.transform.resize`` instead.\n",
      "  \"\"\"\n"
     ]
    },
    {
     "name": "stdout",
     "output_type": "stream",
     "text": [
      " 2/17 [==>...........................] - ETA: 2:55 - loss: 3.0091 - categorical_accuracy: 0.3000"
     ]
    },
    {
     "name": "stderr",
     "output_type": "stream",
     "text": [
      "/mnt/disks/user/anaconda3/lib/python3.6/site-packages/ipykernel_launcher.py:34: DeprecationWarning: `imread` is deprecated!\n",
      "`imread` is deprecated in SciPy 1.0.0, and will be removed in 1.2.0.\n",
      "Use ``imageio.imread`` instead.\n"
     ]
    },
    {
     "name": "stdout",
     "output_type": "stream",
     "text": [
      "17/17 [==============================] - 166s 10s/step - loss: 2.0689 - categorical_accuracy: 0.2574 - val_loss: 1.5672 - val_categorical_accuracy: 0.2200\n",
      "\n",
      "Epoch 00001: saving model to model_init_2020-08-1613_51_03.807948/model-00001-2.07802-0.25943-1.56721-0.22000.h5\n",
      "Epoch 2/20\n",
      "17/17 [==============================] - 49s 3s/step - loss: 1.5626 - categorical_accuracy: 0.2890 - val_loss: 1.4647 - val_categorical_accuracy: 0.3000\n",
      "\n",
      "Epoch 00002: saving model to model_init_2020-08-1613_51_03.807948/model-00002-1.56258-0.28900-1.46467-0.30000.h5\n",
      "Epoch 3/20\n",
      "17/17 [==============================] - 45s 3s/step - loss: 1.4563 - categorical_accuracy: 0.3381 - val_loss: 1.4380 - val_categorical_accuracy: 0.3833\n",
      "\n",
      "Epoch 00003: saving model to model_init_2020-08-1613_51_03.807948/model-00003-1.45866-0.33787-1.43800-0.38333.h5\n",
      "Epoch 4/20\n",
      "17/17 [==============================] - 41s 2s/step - loss: 1.4142 - categorical_accuracy: 0.3901 - val_loss: 1.3088 - val_categorical_accuracy: 0.5333\n",
      "\n",
      "Epoch 00004: saving model to model_init_2020-08-1613_51_03.807948/model-00004-1.41420-0.39009-1.30882-0.53333.h5\n",
      "Epoch 5/20\n",
      "17/17 [==============================] - 39s 2s/step - loss: 1.4084 - categorical_accuracy: 0.4073 - val_loss: 1.3448 - val_categorical_accuracy: 0.5667\n",
      "\n",
      "Epoch 00005: saving model to model_init_2020-08-1613_51_03.807948/model-00005-1.40535-0.40895-1.34485-0.56667.h5\n",
      "Epoch 6/20\n",
      "17/17 [==============================] - 38s 2s/step - loss: 1.3284 - categorical_accuracy: 0.4221 - val_loss: 1.5270 - val_categorical_accuracy: 0.3333\n",
      "\n",
      "Epoch 00006: saving model to model_init_2020-08-1613_51_03.807948/model-00006-1.32844-0.42215-1.52702-0.33333.h5\n",
      "\n",
      "Epoch 00006: ReduceLROnPlateau reducing learning rate to 0.0005000000237487257.\n",
      "Epoch 7/20\n",
      "17/17 [==============================] - 36s 2s/step - loss: 1.1525 - categorical_accuracy: 0.4948 - val_loss: 1.1287 - val_categorical_accuracy: 0.5833\n",
      "\n",
      "Epoch 00007: saving model to model_init_2020-08-1613_51_03.807948/model-00007-1.15245-0.49481-1.12869-0.58333.h5\n",
      "Epoch 8/20\n",
      "17/17 [==============================] - 37s 2s/step - loss: 1.1677 - categorical_accuracy: 0.4740 - val_loss: 1.6607 - val_categorical_accuracy: 0.1500\n",
      "\n",
      "Epoch 00008: saving model to model_init_2020-08-1613_51_03.807948/model-00008-1.16773-0.47405-1.66068-0.15000.h5\n",
      "Epoch 9/20\n",
      "17/17 [==============================] - 36s 2s/step - loss: 1.1046 - categorical_accuracy: 0.5190 - val_loss: 1.6346 - val_categorical_accuracy: 0.3000\n",
      "\n",
      "Epoch 00009: saving model to model_init_2020-08-1613_51_03.807948/model-00009-1.10458-0.51903-1.63458-0.30000.h5\n",
      "\n",
      "Epoch 00009: ReduceLROnPlateau reducing learning rate to 0.0002500000118743628.\n",
      "Epoch 10/20\n",
      "17/17 [==============================] - 35s 2s/step - loss: 1.0980 - categorical_accuracy: 0.5190 - val_loss: 1.1090 - val_categorical_accuracy: 0.6167\n",
      "\n",
      "Epoch 00010: saving model to model_init_2020-08-1613_51_03.807948/model-00010-1.09796-0.51903-1.10903-0.61667.h5\n",
      "Epoch 11/20\n",
      "17/17 [==============================] - 37s 2s/step - loss: 0.9695 - categorical_accuracy: 0.5813 - val_loss: 1.1773 - val_categorical_accuracy: 0.5333\n",
      "\n",
      "Epoch 00011: saving model to model_init_2020-08-1613_51_03.807948/model-00011-0.96947-0.58131-1.17733-0.53333.h5\n",
      "Epoch 12/20\n",
      "17/17 [==============================] - 38s 2s/step - loss: 1.0063 - categorical_accuracy: 0.5917 - val_loss: 0.9672 - val_categorical_accuracy: 0.6167\n",
      "\n",
      "Epoch 00012: saving model to model_init_2020-08-1613_51_03.807948/model-00012-1.00625-0.59170-0.96725-0.61667.h5\n",
      "Epoch 13/20\n",
      "17/17 [==============================] - 36s 2s/step - loss: 0.9163 - categorical_accuracy: 0.6401 - val_loss: 0.9657 - val_categorical_accuracy: 0.6333\n",
      "\n",
      "Epoch 00013: saving model to model_init_2020-08-1613_51_03.807948/model-00013-0.91626-0.64014-0.96565-0.63333.h5\n",
      "Epoch 14/20\n",
      "17/17 [==============================] - 37s 2s/step - loss: 0.8835 - categorical_accuracy: 0.6471 - val_loss: 0.9898 - val_categorical_accuracy: 0.6167\n",
      "\n",
      "Epoch 00014: saving model to model_init_2020-08-1613_51_03.807948/model-00014-0.88355-0.64706-0.98978-0.61667.h5\n",
      "Epoch 15/20\n",
      "17/17 [==============================] - 36s 2s/step - loss: 0.8404 - categorical_accuracy: 0.6713 - val_loss: 0.8521 - val_categorical_accuracy: 0.6833\n",
      "\n",
      "Epoch 00015: saving model to model_init_2020-08-1613_51_03.807948/model-00015-0.84040-0.67128-0.85211-0.68333.h5\n",
      "Epoch 16/20\n",
      "17/17 [==============================] - 38s 2s/step - loss: 0.8862 - categorical_accuracy: 0.6505 - val_loss: 0.8754 - val_categorical_accuracy: 0.7000\n",
      "\n",
      "Epoch 00016: saving model to model_init_2020-08-1613_51_03.807948/model-00016-0.88616-0.65052-0.87536-0.70000.h5\n",
      "Epoch 17/20\n",
      "17/17 [==============================] - 35s 2s/step - loss: 0.7943 - categorical_accuracy: 0.6920 - val_loss: 0.8484 - val_categorical_accuracy: 0.7000\n",
      "\n",
      "Epoch 00017: saving model to model_init_2020-08-1613_51_03.807948/model-00017-0.79433-0.69204-0.84841-0.70000.h5\n",
      "Epoch 18/20\n",
      "17/17 [==============================] - 36s 2s/step - loss: 0.7616 - categorical_accuracy: 0.6955 - val_loss: 0.8656 - val_categorical_accuracy: 0.6833\n",
      "\n",
      "Epoch 00018: saving model to model_init_2020-08-1613_51_03.807948/model-00018-0.76159-0.69550-0.86562-0.68333.h5\n",
      "Epoch 19/20\n",
      "17/17 [==============================] - 35s 2s/step - loss: 0.7876 - categorical_accuracy: 0.6747 - val_loss: 0.7083 - val_categorical_accuracy: 0.7667\n",
      "\n",
      "Epoch 00019: saving model to model_init_2020-08-1613_51_03.807948/model-00019-0.78755-0.67474-0.70825-0.76667.h5\n",
      "Epoch 20/20\n",
      "17/17 [==============================] - 37s 2s/step - loss: 0.7796 - categorical_accuracy: 0.6782 - val_loss: 0.6971 - val_categorical_accuracy: 0.9000\n",
      "\n",
      "Epoch 00020: saving model to model_init_2020-08-1613_51_03.807948/model-00020-0.77956-0.67820-0.69709-0.90000.h5\n"
     ]
    },
    {
     "data": {
      "text/plain": [
       "<keras.callbacks.History at 0x7f95dfa5ed30>"
      ]
     },
     "execution_count": 14,
     "metadata": {},
     "output_type": "execute_result"
    }
   ],
   "source": [
    "model.fit_generator(train_generator, steps_per_epoch=steps_per_epoch, epochs=num_epochs, verbose=1, \n",
    "                    callbacks=callbacks_list, validation_data=val_generator, \n",
    "                    validation_steps=validation_steps, class_weight=None, workers=1, initial_epoch=0)"
   ]
  },
  {
   "cell_type": "markdown",
   "metadata": {},
   "source": [
    "### Experiment 2"
   ]
  },
  {
   "cell_type": "code",
   "execution_count": 15,
   "metadata": {
    "scrolled": true
   },
   "outputs": [
    {
     "name": "stdout",
     "output_type": "stream",
     "text": [
      "Source path =  Source path =  Project_data/train ; batch size = 50\n",
      "Project_data/val ; batch size = 50\n",
      "Epoch 1/10\n"
     ]
    },
    {
     "name": "stderr",
     "output_type": "stream",
     "text": [
      "/mnt/disks/user/anaconda3/lib/python3.6/site-packages/ipykernel_launcher.py:13: DeprecationWarning: `imread` is deprecated!\n",
      "`imread` is deprecated in SciPy 1.0.0, and will be removed in 1.2.0.\n",
      "Use ``imageio.imread`` instead.\n",
      "  del sys.path[0]\n",
      "/mnt/disks/user/anaconda3/lib/python3.6/site-packages/ipykernel_launcher.py:5: DeprecationWarning: `imresize` is deprecated!\n",
      "`imresize` is deprecated in SciPy 1.0.0, and will be removed in 1.2.0.\n",
      "Use ``skimage.transform.resize`` instead.\n",
      "  \"\"\"\n"
     ]
    },
    {
     "name": "stdout",
     "output_type": "stream",
     "text": [
      "12/17 [====================>.........] - ETA: 36s - loss: 0.7276 - categorical_accuracy: 0.7133"
     ]
    },
    {
     "name": "stderr",
     "output_type": "stream",
     "text": [
      "/mnt/disks/user/anaconda3/lib/python3.6/site-packages/ipykernel_launcher.py:34: DeprecationWarning: `imread` is deprecated!\n",
      "`imread` is deprecated in SciPy 1.0.0, and will be removed in 1.2.0.\n",
      "Use ``imageio.imread`` instead.\n"
     ]
    },
    {
     "name": "stdout",
     "output_type": "stream",
     "text": [
      "17/17 [==============================] - 101s 6s/step - loss: 0.7533 - categorical_accuracy: 0.7026 - val_loss: 0.7801 - val_categorical_accuracy: 0.7333\n",
      "\n",
      "Epoch 00001: saving model to model_init_2020-08-1613_51_03.807948/model-00001-0.73373-0.71225-0.78012-0.73333.h5\n",
      "Epoch 2/10\n",
      "17/17 [==============================] - 33s 2s/step - loss: 0.7465 - categorical_accuracy: 0.7104 - val_loss: 0.7381 - val_categorical_accuracy: 0.7467\n",
      "\n",
      "Epoch 00002: saving model to model_init_2020-08-1613_51_03.807948/model-00002-0.74649-0.71041-0.73811-0.74667.h5\n",
      "Epoch 3/10\n",
      "17/17 [==============================] - 32s 2s/step - loss: 0.6514 - categorical_accuracy: 0.7376 - val_loss: 0.7303 - val_categorical_accuracy: 0.7333\n",
      "\n",
      "Epoch 00003: saving model to model_init_2020-08-1613_51_03.807948/model-00003-0.65138-0.73756-0.73027-0.73333.h5\n",
      "Epoch 4/10\n",
      "17/17 [==============================] - 32s 2s/step - loss: 0.6520 - categorical_accuracy: 0.7376 - val_loss: 0.6735 - val_categorical_accuracy: 0.7733\n",
      "\n",
      "Epoch 00004: saving model to model_init_2020-08-1613_51_03.807948/model-00004-0.65200-0.73756-0.67350-0.77333.h5\n",
      "Epoch 5/10\n",
      "17/17 [==============================] - 32s 2s/step - loss: 0.6849 - categorical_accuracy: 0.7421 - val_loss: 0.7395 - val_categorical_accuracy: 0.7267\n",
      "\n",
      "Epoch 00005: saving model to model_init_2020-08-1613_51_03.807948/model-00005-0.68487-0.74208-0.73947-0.72667.h5\n",
      "Epoch 6/10\n",
      "17/17 [==============================] - 32s 2s/step - loss: 0.6222 - categorical_accuracy: 0.7557 - val_loss: 0.7570 - val_categorical_accuracy: 0.7467\n",
      "\n",
      "Epoch 00006: saving model to model_init_2020-08-1613_51_03.807948/model-00006-0.62224-0.75566-0.75699-0.74667.h5\n",
      "\n",
      "Epoch 00006: ReduceLROnPlateau reducing learning rate to 0.0001250000059371814.\n",
      "Epoch 7/10\n",
      "17/17 [==============================] - 33s 2s/step - loss: 0.6058 - categorical_accuracy: 0.7557 - val_loss: 0.6991 - val_categorical_accuracy: 0.7600\n",
      "\n",
      "Epoch 00007: saving model to model_init_2020-08-1613_51_03.807948/model-00007-0.60577-0.75566-0.69913-0.76000.h5\n",
      "Epoch 8/10\n",
      "17/17 [==============================] - 31s 2s/step - loss: 0.5196 - categorical_accuracy: 0.7964 - val_loss: 0.6727 - val_categorical_accuracy: 0.7933\n",
      "\n",
      "Epoch 00008: saving model to model_init_2020-08-1613_51_03.807948/model-00008-0.51956-0.79638-0.67271-0.79333.h5\n",
      "Epoch 9/10\n",
      "17/17 [==============================] - 32s 2s/step - loss: 0.5468 - categorical_accuracy: 0.7783 - val_loss: 0.6208 - val_categorical_accuracy: 0.8333\n",
      "\n",
      "Epoch 00009: saving model to model_init_2020-08-1613_51_03.807948/model-00009-0.54681-0.77828-0.62080-0.83333.h5\n",
      "Epoch 10/10\n",
      "17/17 [==============================] - 33s 2s/step - loss: 0.4762 - categorical_accuracy: 0.7964 - val_loss: 0.6895 - val_categorical_accuracy: 0.7800\n",
      "\n",
      "Epoch 00010: saving model to model_init_2020-08-1613_51_03.807948/model-00010-0.47621-0.79638-0.68954-0.78000.h5\n"
     ]
    },
    {
     "data": {
      "text/plain": [
       "<keras.callbacks.History at 0x7f957c5c6f98>"
      ]
     },
     "execution_count": 15,
     "metadata": {},
     "output_type": "execute_result"
    }
   ],
   "source": [
    "batch_size = 50\n",
    "num_epochs = 10\n",
    "\n",
    "\n",
    "train_generator = generator(train_path, train_doc, batch_size)\n",
    "val_generator = generator(val_path, val_doc, batch_size)\n",
    "\n",
    "model.fit_generator(train_generator, steps_per_epoch=steps_per_epoch, epochs=num_epochs, verbose=1, \n",
    "                    callbacks=callbacks_list, validation_data=val_generator, \n",
    "                    validation_steps=validation_steps, class_weight=None, workers=1, initial_epoch=0)"
   ]
  },
  {
   "cell_type": "markdown",
   "metadata": {},
   "source": [
    "### Experiment 3"
   ]
  },
  {
   "cell_type": "code",
   "execution_count": 16,
   "metadata": {},
   "outputs": [
    {
     "name": "stdout",
     "output_type": "stream",
     "text": [
      "Source path =  Project_data/val Source path =  Project_data/train; batch size = 60\n",
      "Epoch 1/20\n",
      " ; batch size = 60\n"
     ]
    },
    {
     "name": "stderr",
     "output_type": "stream",
     "text": [
      "/mnt/disks/user/anaconda3/lib/python3.6/site-packages/ipykernel_launcher.py:13: DeprecationWarning: `imread` is deprecated!\n",
      "`imread` is deprecated in SciPy 1.0.0, and will be removed in 1.2.0.\n",
      "Use ``imageio.imread`` instead.\n",
      "  del sys.path[0]\n",
      "/mnt/disks/user/anaconda3/lib/python3.6/site-packages/ipykernel_launcher.py:5: DeprecationWarning: `imresize` is deprecated!\n",
      "`imresize` is deprecated in SciPy 1.0.0, and will be removed in 1.2.0.\n",
      "Use ``skimage.transform.resize`` instead.\n",
      "  \"\"\"\n",
      "/mnt/disks/user/anaconda3/lib/python3.6/site-packages/ipykernel_launcher.py:34: DeprecationWarning: `imread` is deprecated!\n",
      "`imread` is deprecated in SciPy 1.0.0, and will be removed in 1.2.0.\n",
      "Use ``imageio.imread`` instead.\n"
     ]
    },
    {
     "name": "stdout",
     "output_type": "stream",
     "text": [
      "17/17 [==============================] - 93s 5s/step - loss: 0.7039 - categorical_accuracy: 0.7634 - val_loss: 1.0189 - val_categorical_accuracy: 0.6286\n",
      "\n",
      "Epoch 00001: saving model to model_init_2020-08-1613_51_03.807948/model-00001-0.50878-0.80826-1.01892-0.62857.h5\n",
      "Epoch 2/20\n",
      "17/17 [==============================] - 7s 423ms/step - loss: 0.5513 - categorical_accuracy: 0.7255 - val_loss: 1.1420 - val_categorical_accuracy: 0.6125\n",
      "\n",
      "Epoch 00002: saving model to model_init_2020-08-1613_51_03.807948/model-00002-0.55132-0.72549-1.14200-0.61250.h5\n",
      "Epoch 3/20\n",
      "17/17 [==============================] - 8s 449ms/step - loss: 0.6794 - categorical_accuracy: 0.7059 - val_loss: 0.6371 - val_categorical_accuracy: 0.7500\n",
      "\n",
      "Epoch 00003: saving model to model_init_2020-08-1613_51_03.807948/model-00003-0.67941-0.70588-0.63707-0.75000.h5\n",
      "Epoch 4/20\n",
      "17/17 [==============================] - 8s 471ms/step - loss: 0.8378 - categorical_accuracy: 0.6667 - val_loss: 0.8771 - val_categorical_accuracy: 0.6833\n",
      "\n",
      "Epoch 00004: saving model to model_init_2020-08-1613_51_03.807948/model-00004-0.83784-0.66667-0.87710-0.68333.h5\n",
      "Epoch 5/20\n",
      "17/17 [==============================] - 8s 475ms/step - loss: 0.7192 - categorical_accuracy: 0.6863 - val_loss: 1.0833 - val_categorical_accuracy: 0.6167\n",
      "\n",
      "Epoch 00005: saving model to model_init_2020-08-1613_51_03.807948/model-00005-0.71920-0.68627-1.08327-0.61667.h5\n",
      "\n",
      "Epoch 00005: ReduceLROnPlateau reducing learning rate to 6.25000029685907e-05.\n",
      "Epoch 6/20\n",
      "17/17 [==============================] - 7s 423ms/step - loss: 0.7047 - categorical_accuracy: 0.8039 - val_loss: 0.7616 - val_categorical_accuracy: 0.6833\n",
      "\n",
      "Epoch 00006: saving model to model_init_2020-08-1613_51_03.807948/model-00006-0.70466-0.80392-0.76156-0.68333.h5\n",
      "Epoch 7/20\n",
      "17/17 [==============================] - 8s 470ms/step - loss: 0.8763 - categorical_accuracy: 0.5490 - val_loss: 0.7862 - val_categorical_accuracy: 0.6667\n",
      "\n",
      "Epoch 00007: saving model to model_init_2020-08-1613_51_03.807948/model-00007-0.87632-0.54902-0.78620-0.66667.h5\n",
      "\n",
      "Epoch 00007: ReduceLROnPlateau reducing learning rate to 3.125000148429535e-05.\n",
      "Epoch 8/20\n",
      "17/17 [==============================] - 8s 481ms/step - loss: 0.7861 - categorical_accuracy: 0.7059 - val_loss: 0.5932 - val_categorical_accuracy: 0.8167\n",
      "\n",
      "Epoch 00008: saving model to model_init_2020-08-1613_51_03.807948/model-00008-0.78609-0.70588-0.59317-0.81667.h5\n",
      "Epoch 9/20\n",
      "17/17 [==============================] - 8s 486ms/step - loss: 0.6692 - categorical_accuracy: 0.7451 - val_loss: 0.6738 - val_categorical_accuracy: 0.8333\n",
      "\n",
      "Epoch 00009: saving model to model_init_2020-08-1613_51_03.807948/model-00009-0.66918-0.74510-0.67376-0.83333.h5\n",
      "Epoch 10/20\n",
      "17/17 [==============================] - 8s 495ms/step - loss: 0.5399 - categorical_accuracy: 0.7843 - val_loss: 0.6658 - val_categorical_accuracy: 0.6833\n",
      "\n",
      "Epoch 00010: saving model to model_init_2020-08-1613_51_03.807948/model-00010-0.53986-0.78431-0.66578-0.68333.h5\n",
      "\n",
      "Epoch 00010: ReduceLROnPlateau reducing learning rate to 1.5625000742147677e-05.\n",
      "Epoch 11/20\n",
      "17/17 [==============================] - 11s 635ms/step - loss: 0.6130 - categorical_accuracy: 0.8235 - val_loss: 0.6262 - val_categorical_accuracy: 0.8000\n",
      "\n",
      "Epoch 00011: saving model to model_init_2020-08-1613_51_03.807948/model-00011-0.61298-0.82353-0.62616-0.80000.h5\n",
      "Epoch 12/20\n",
      "17/17 [==============================] - 10s 605ms/step - loss: 0.7123 - categorical_accuracy: 0.7451 - val_loss: 0.5982 - val_categorical_accuracy: 0.8000\n",
      "\n",
      "Epoch 00012: saving model to model_init_2020-08-1613_51_03.807948/model-00012-0.71228-0.74510-0.59819-0.80000.h5\n",
      "\n",
      "Epoch 00012: ReduceLROnPlateau reducing learning rate to 7.812500371073838e-06.\n",
      "Epoch 13/20\n",
      "17/17 [==============================] - 9s 542ms/step - loss: 0.7251 - categorical_accuracy: 0.7647 - val_loss: 0.7042 - val_categorical_accuracy: 0.7833\n",
      "\n",
      "Epoch 00013: saving model to model_init_2020-08-1613_51_03.807948/model-00013-0.72509-0.76471-0.70422-0.78333.h5\n",
      "Epoch 14/20\n",
      "17/17 [==============================] - 10s 575ms/step - loss: 0.5992 - categorical_accuracy: 0.8627 - val_loss: 0.5991 - val_categorical_accuracy: 0.8333\n",
      "\n",
      "Epoch 00014: saving model to model_init_2020-08-1613_51_03.807948/model-00014-0.59921-0.86275-0.59911-0.83333.h5\n",
      "\n",
      "Epoch 00014: ReduceLROnPlateau reducing learning rate to 3.906250185536919e-06.\n",
      "Epoch 15/20\n",
      "17/17 [==============================] - 10s 602ms/step - loss: 0.5827 - categorical_accuracy: 0.7255 - val_loss: 0.7521 - val_categorical_accuracy: 0.7167\n",
      "\n",
      "Epoch 00015: saving model to model_init_2020-08-1613_51_03.807948/model-00015-0.58269-0.72549-0.75212-0.71667.h5\n",
      "Epoch 16/20\n",
      "17/17 [==============================] - 10s 571ms/step - loss: 0.5502 - categorical_accuracy: 0.8824 - val_loss: 0.6655 - val_categorical_accuracy: 0.7667\n",
      "\n",
      "Epoch 00016: saving model to model_init_2020-08-1613_51_03.807948/model-00016-0.55024-0.88235-0.66548-0.76667.h5\n",
      "\n",
      "Epoch 00016: ReduceLROnPlateau reducing learning rate to 1.9531250927684596e-06.\n",
      "Epoch 17/20\n",
      "17/17 [==============================] - 10s 593ms/step - loss: 0.4949 - categorical_accuracy: 0.8235 - val_loss: 0.6500 - val_categorical_accuracy: 0.7667\n",
      "\n",
      "Epoch 00017: saving model to model_init_2020-08-1613_51_03.807948/model-00017-0.49490-0.82353-0.64999-0.76667.h5\n",
      "Epoch 18/20\n",
      "17/17 [==============================] - 10s 593ms/step - loss: 0.5458 - categorical_accuracy: 0.7451 - val_loss: 0.6725 - val_categorical_accuracy: 0.7833\n",
      "\n",
      "Epoch 00018: saving model to model_init_2020-08-1613_51_03.807948/model-00018-0.54575-0.74510-0.67253-0.78333.h5\n",
      "\n",
      "Epoch 00018: ReduceLROnPlateau reducing learning rate to 9.765625463842298e-07.\n",
      "Epoch 19/20\n",
      "17/17 [==============================] - 10s 561ms/step - loss: 0.5519 - categorical_accuracy: 0.8627 - val_loss: 0.6547 - val_categorical_accuracy: 0.8167\n",
      "\n",
      "Epoch 00019: saving model to model_init_2020-08-1613_51_03.807948/model-00019-0.55188-0.86275-0.65466-0.81667.h5\n",
      "Epoch 20/20\n",
      "17/17 [==============================] - 10s 607ms/step - loss: 0.7666 - categorical_accuracy: 0.7647 - val_loss: 0.6308 - val_categorical_accuracy: 0.8000\n",
      "\n",
      "Epoch 00020: saving model to model_init_2020-08-1613_51_03.807948/model-00020-0.76662-0.76471-0.63079-0.80000.h5\n",
      "\n",
      "Epoch 00020: ReduceLROnPlateau reducing learning rate to 4.882812731921149e-07.\n"
     ]
    },
    {
     "data": {
      "text/plain": [
       "<keras.callbacks.History at 0x7f957c5a8dd8>"
      ]
     },
     "execution_count": 16,
     "metadata": {},
     "output_type": "execute_result"
    }
   ],
   "source": [
    "batch_size = 60\n",
    "num_epochs = 20\n",
    "\n",
    "\n",
    "train_generator = generator(train_path, train_doc, batch_size)\n",
    "val_generator = generator(val_path, val_doc, batch_size)\n",
    "\n",
    "model.fit_generator(train_generator, steps_per_epoch=steps_per_epoch, epochs=num_epochs, verbose=1, \n",
    "                    callbacks=callbacks_list, validation_data=val_generator, \n",
    "                    validation_steps=validation_steps, class_weight=None, workers=1, initial_epoch=0)"
   ]
  },
  {
   "cell_type": "markdown",
   "metadata": {},
   "source": [
    "### Experiment 4"
   ]
  },
  {
   "cell_type": "code",
   "execution_count": 17,
   "metadata": {
    "scrolled": false
   },
   "outputs": [
    {
     "name": "stdout",
     "output_type": "stream",
     "text": [
      "Source path =  Project_data/val ; batch size = 30\n",
      "Source path =  Project_data/train ; batch size = 30\n",
      "Epoch 1/20\n"
     ]
    },
    {
     "name": "stderr",
     "output_type": "stream",
     "text": [
      "/mnt/disks/user/anaconda3/lib/python3.6/site-packages/ipykernel_launcher.py:13: DeprecationWarning: `imread` is deprecated!\n",
      "`imread` is deprecated in SciPy 1.0.0, and will be removed in 1.2.0.\n",
      "Use ``imageio.imread`` instead.\n",
      "  del sys.path[0]\n",
      "/mnt/disks/user/anaconda3/lib/python3.6/site-packages/ipykernel_launcher.py:5: DeprecationWarning: `imresize` is deprecated!\n",
      "`imresize` is deprecated in SciPy 1.0.0, and will be removed in 1.2.0.\n",
      "Use ``skimage.transform.resize`` instead.\n",
      "  \"\"\"\n"
     ]
    },
    {
     "name": "stdout",
     "output_type": "stream",
     "text": [
      " 3/17 [====>.........................] - ETA: 1:05 - loss: 0.4817 - categorical_accuracy: 0.8444"
     ]
    },
    {
     "name": "stderr",
     "output_type": "stream",
     "text": [
      "/mnt/disks/user/anaconda3/lib/python3.6/site-packages/ipykernel_launcher.py:34: DeprecationWarning: `imread` is deprecated!\n",
      "`imread` is deprecated in SciPy 1.0.0, and will be removed in 1.2.0.\n",
      "Use ``imageio.imread`` instead.\n"
     ]
    },
    {
     "name": "stdout",
     "output_type": "stream",
     "text": [
      "17/17 [==============================] - 69s 4s/step - loss: 0.4914 - categorical_accuracy: 0.8176 - val_loss: 0.6764 - val_categorical_accuracy: 0.8000\n",
      "\n",
      "Epoch 00001: saving model to model_init_2020-08-1613_51_03.807948/model-00001-0.49139-0.81765-0.67637-0.80000.h5\n",
      "Epoch 2/20\n",
      "17/17 [==============================] - 21s 1s/step - loss: 0.6627 - categorical_accuracy: 0.7957 - val_loss: 1.2112 - val_categorical_accuracy: 0.6333\n",
      "\n",
      "Epoch 00002: saving model to model_init_2020-08-1613_51_03.807948/model-00002-0.50507-0.82258-1.21123-0.63333.h5\n",
      "Epoch 3/20\n",
      "17/17 [==============================] - 7s 420ms/step - loss: 0.5313 - categorical_accuracy: 0.8039 - val_loss: 0.6558 - val_categorical_accuracy: 0.8333\n",
      "\n",
      "Epoch 00003: saving model to model_init_2020-08-1613_51_03.807948/model-00003-0.53132-0.80392-0.65577-0.83333.h5\n",
      "Epoch 4/20\n",
      "17/17 [==============================] - 8s 444ms/step - loss: 0.6087 - categorical_accuracy: 0.7647 - val_loss: 0.6610 - val_categorical_accuracy: 0.8333\n",
      "\n",
      "Epoch 00004: saving model to model_init_2020-08-1613_51_03.807948/model-00004-0.60868-0.76471-0.66101-0.83333.h5\n",
      "Epoch 5/20\n",
      "17/17 [==============================] - 7s 421ms/step - loss: 0.5523 - categorical_accuracy: 0.7843 - val_loss: 0.7829 - val_categorical_accuracy: 0.7000\n",
      "\n",
      "Epoch 00005: saving model to model_init_2020-08-1613_51_03.807948/model-00005-0.55228-0.78431-0.78289-0.70000.h5\n",
      "\n",
      "Epoch 00005: ReduceLROnPlateau reducing learning rate to 2.4414063659605745e-07.\n",
      "Epoch 6/20\n",
      "17/17 [==============================] - 7s 411ms/step - loss: 0.7792 - categorical_accuracy: 0.6667 - val_loss: 0.7674 - val_categorical_accuracy: 0.7667\n",
      "\n",
      "Epoch 00006: saving model to model_init_2020-08-1613_51_03.807948/model-00006-0.77924-0.66667-0.76742-0.76667.h5\n",
      "Epoch 7/20\n",
      "17/17 [==============================] - 8s 495ms/step - loss: 0.5915 - categorical_accuracy: 0.7647 - val_loss: 0.6284 - val_categorical_accuracy: 0.8000\n",
      "\n",
      "Epoch 00007: saving model to model_init_2020-08-1613_51_03.807948/model-00007-0.59152-0.76471-0.62845-0.80000.h5\n",
      "Epoch 8/20\n",
      "17/17 [==============================] - 8s 450ms/step - loss: 0.7071 - categorical_accuracy: 0.8039 - val_loss: 0.5818 - val_categorical_accuracy: 0.8000\n",
      "\n",
      "Epoch 00008: saving model to model_init_2020-08-1613_51_03.807948/model-00008-0.70707-0.80392-0.58180-0.80000.h5\n",
      "Epoch 9/20\n",
      "17/17 [==============================] - 7s 415ms/step - loss: 0.6591 - categorical_accuracy: 0.7255 - val_loss: 0.5269 - val_categorical_accuracy: 0.9000\n",
      "\n",
      "Epoch 00009: saving model to model_init_2020-08-1613_51_03.807948/model-00009-0.65914-0.72549-0.52693-0.90000.h5\n",
      "Epoch 10/20\n",
      "17/17 [==============================] - 7s 431ms/step - loss: 0.4327 - categorical_accuracy: 0.8235 - val_loss: 0.7559 - val_categorical_accuracy: 0.7667\n",
      "\n",
      "Epoch 00010: saving model to model_init_2020-08-1613_51_03.807948/model-00010-0.43267-0.82353-0.75585-0.76667.h5\n",
      "Epoch 11/20\n",
      "17/17 [==============================] - 8s 455ms/step - loss: 0.6306 - categorical_accuracy: 0.8039 - val_loss: 0.7799 - val_categorical_accuracy: 0.7000\n",
      "\n",
      "Epoch 00011: saving model to model_init_2020-08-1613_51_03.807948/model-00011-0.63063-0.80392-0.77987-0.70000.h5\n",
      "\n",
      "Epoch 00011: ReduceLROnPlateau reducing learning rate to 1.2207031829802872e-07.\n",
      "Epoch 12/20\n",
      "17/17 [==============================] - 8s 462ms/step - loss: 0.7273 - categorical_accuracy: 0.6863 - val_loss: 0.4708 - val_categorical_accuracy: 0.8333\n",
      "\n",
      "Epoch 00012: saving model to model_init_2020-08-1613_51_03.807948/model-00012-0.72733-0.68627-0.47084-0.83333.h5\n",
      "Epoch 13/20\n",
      "17/17 [==============================] - 7s 414ms/step - loss: 0.4887 - categorical_accuracy: 0.8431 - val_loss: 0.6244 - val_categorical_accuracy: 0.8000\n",
      "\n",
      "Epoch 00013: saving model to model_init_2020-08-1613_51_03.807948/model-00013-0.48868-0.84314-0.62443-0.80000.h5\n",
      "Epoch 14/20\n",
      "17/17 [==============================] - 8s 448ms/step - loss: 0.5059 - categorical_accuracy: 0.8431 - val_loss: 0.7124 - val_categorical_accuracy: 0.8000\n",
      "\n",
      "Epoch 00014: saving model to model_init_2020-08-1613_51_03.807948/model-00014-0.50586-0.84314-0.71245-0.80000.h5\n",
      "\n",
      "Epoch 00014: ReduceLROnPlateau reducing learning rate to 6.103515914901436e-08.\n",
      "Epoch 15/20\n",
      "17/17 [==============================] - 7s 398ms/step - loss: 0.3990 - categorical_accuracy: 0.9216 - val_loss: 0.6374 - val_categorical_accuracy: 0.7667\n",
      "\n",
      "Epoch 00015: saving model to model_init_2020-08-1613_51_03.807948/model-00015-0.39903-0.92157-0.63740-0.76667.h5\n",
      "Epoch 16/20\n",
      "17/17 [==============================] - 8s 446ms/step - loss: 0.6439 - categorical_accuracy: 0.7059 - val_loss: 0.6201 - val_categorical_accuracy: 0.8667\n",
      "\n",
      "Epoch 00016: saving model to model_init_2020-08-1613_51_03.807948/model-00016-0.64387-0.70588-0.62012-0.86667.h5\n",
      "\n",
      "Epoch 00016: ReduceLROnPlateau reducing learning rate to 3.051757957450718e-08.\n",
      "Epoch 17/20\n",
      "17/17 [==============================] - 7s 422ms/step - loss: 0.8037 - categorical_accuracy: 0.6667 - val_loss: 0.7470 - val_categorical_accuracy: 0.7333\n",
      "\n",
      "Epoch 00017: saving model to model_init_2020-08-1613_51_03.807948/model-00017-0.80372-0.66667-0.74701-0.73333.h5\n",
      "Epoch 18/20\n",
      "17/17 [==============================] - 8s 475ms/step - loss: 0.6477 - categorical_accuracy: 0.7255 - val_loss: 0.6843 - val_categorical_accuracy: 0.7667\n",
      "\n",
      "Epoch 00018: saving model to model_init_2020-08-1613_51_03.807948/model-00018-0.64766-0.72549-0.68431-0.76667.h5\n",
      "\n",
      "Epoch 00018: ReduceLROnPlateau reducing learning rate to 1.525878978725359e-08.\n",
      "Epoch 19/20\n",
      "17/17 [==============================] - 7s 432ms/step - loss: 0.6214 - categorical_accuracy: 0.7255 - val_loss: 0.4766 - val_categorical_accuracy: 0.8667\n",
      "\n",
      "Epoch 00019: saving model to model_init_2020-08-1613_51_03.807948/model-00019-0.62144-0.72549-0.47660-0.86667.h5\n",
      "Epoch 20/20\n",
      "17/17 [==============================] - 8s 471ms/step - loss: 0.7018 - categorical_accuracy: 0.7059 - val_loss: 0.6453 - val_categorical_accuracy: 0.7667\n",
      "\n",
      "Epoch 00020: saving model to model_init_2020-08-1613_51_03.807948/model-00020-0.70178-0.70588-0.64534-0.76667.h5\n",
      "\n",
      "Epoch 00020: ReduceLROnPlateau reducing learning rate to 7.629394893626795e-09.\n"
     ]
    },
    {
     "data": {
      "text/plain": [
       "<keras.callbacks.History at 0x7f957c5c0e80>"
      ]
     },
     "execution_count": 17,
     "metadata": {},
     "output_type": "execute_result"
    }
   ],
   "source": [
    "batch_size = 30\n",
    "num_epochs = 20\n",
    "\n",
    "\n",
    "train_generator = generator(train_path, train_doc, batch_size)\n",
    "val_generator = generator(val_path, val_doc, batch_size)\n",
    "\n",
    "model.fit_generator(train_generator, steps_per_epoch=steps_per_epoch, epochs=num_epochs, verbose=1, \n",
    "                    callbacks=callbacks_list, validation_data=val_generator, \n",
    "                    validation_steps=validation_steps, class_weight=None, workers=1, initial_epoch=0)"
   ]
  },
  {
   "cell_type": "markdown",
   "metadata": {},
   "source": [
    "### Experiment 5"
   ]
  },
  {
   "cell_type": "code",
   "execution_count": 19,
   "metadata": {},
   "outputs": [
    {
     "name": "stdout",
     "output_type": "stream",
     "text": [
      "Source path = Source path =  Project_data/train ; batch size =Epoch 1/10 Project_data/val ; batch size = 40\n",
      "\n",
      " 40\n"
     ]
    },
    {
     "name": "stderr",
     "output_type": "stream",
     "text": [
      "/mnt/disks/user/anaconda3/lib/python3.6/site-packages/ipykernel_launcher.py:13: DeprecationWarning: `imread` is deprecated!\n",
      "`imread` is deprecated in SciPy 1.0.0, and will be removed in 1.2.0.\n",
      "Use ``imageio.imread`` instead.\n",
      "  del sys.path[0]\n",
      "/mnt/disks/user/anaconda3/lib/python3.6/site-packages/ipykernel_launcher.py:5: DeprecationWarning: `imresize` is deprecated!\n",
      "`imresize` is deprecated in SciPy 1.0.0, and will be removed in 1.2.0.\n",
      "Use ``skimage.transform.resize`` instead.\n",
      "  \"\"\"\n"
     ]
    },
    {
     "name": "stdout",
     "output_type": "stream",
     "text": [
      " 2/17 [==>...........................] - ETA: 1:32 - loss: 0.5027 - categorical_accuracy: 0.8500"
     ]
    },
    {
     "name": "stderr",
     "output_type": "stream",
     "text": [
      "/mnt/disks/user/anaconda3/lib/python3.6/site-packages/ipykernel_launcher.py:34: DeprecationWarning: `imread` is deprecated!\n",
      "`imread` is deprecated in SciPy 1.0.0, and will be removed in 1.2.0.\n",
      "Use ``imageio.imread`` instead.\n"
     ]
    },
    {
     "name": "stdout",
     "output_type": "stream",
     "text": [
      "17/17 [==============================] - 87s 5s/step - loss: 0.5813 - categorical_accuracy: 0.8023 - val_loss: 1.2437 - val_categorical_accuracy: 0.6900\n",
      "\n",
      "Epoch 00001: saving model to model_init_2020-08-1613_51_03.807948/model-00001-0.54407-0.81750-1.24374-0.69000.h5\n",
      "Epoch 2/10\n",
      "17/17 [==============================] - 49s 3s/step - loss: 0.5018 - categorical_accuracy: 0.8210 - val_loss: 0.6517 - val_categorical_accuracy: 0.7833\n",
      "\n",
      "Epoch 00002: saving model to model_init_2020-08-1613_51_03.807948/model-00002-0.50180-0.82097-0.65172-0.78333.h5\n",
      "Epoch 3/10\n",
      "17/17 [==============================] - 45s 3s/step - loss: 0.5629 - categorical_accuracy: 0.7748 - val_loss: 0.6759 - val_categorical_accuracy: 0.8000\n",
      "\n",
      "Epoch 00003: saving model to model_init_2020-08-1613_51_03.807948/model-00003-0.54764-0.78202-0.67588-0.80000.h5\n",
      "Epoch 4/10\n",
      "17/17 [==============================] - 41s 2s/step - loss: 0.4547 - categorical_accuracy: 0.8328 - val_loss: 0.5742 - val_categorical_accuracy: 0.8667\n",
      "\n",
      "Epoch 00004: saving model to model_init_2020-08-1613_51_03.807948/model-00004-0.45469-0.83282-0.57423-0.86667.h5\n",
      "Epoch 5/10\n",
      "17/17 [==============================] - 39s 2s/step - loss: 0.6207 - categorical_accuracy: 0.7746 - val_loss: 0.6709 - val_categorical_accuracy: 0.7500\n",
      "\n",
      "Epoch 00005: saving model to model_init_2020-08-1613_51_03.807948/model-00005-0.61273-0.77955-0.67092-0.75000.h5\n",
      "Epoch 6/10\n",
      "17/17 [==============================] - 37s 2s/step - loss: 0.4824 - categorical_accuracy: 0.8235 - val_loss: 0.6989 - val_categorical_accuracy: 0.8000\n",
      "\n",
      "Epoch 00006: saving model to model_init_2020-08-1613_51_03.807948/model-00006-0.48239-0.82353-0.69888-0.80000.h5\n",
      "\n",
      "Epoch 00006: ReduceLROnPlateau reducing learning rate to 3.814697446813398e-09.\n",
      "Epoch 7/10\n",
      "17/17 [==============================] - 37s 2s/step - loss: 0.5076 - categorical_accuracy: 0.8166 - val_loss: 0.7218 - val_categorical_accuracy: 0.7833\n",
      "\n",
      "Epoch 00007: saving model to model_init_2020-08-1613_51_03.807948/model-00007-0.50762-0.81661-0.72184-0.78333.h5\n",
      "Epoch 8/10\n",
      "17/17 [==============================] - 37s 2s/step - loss: 0.5142 - categorical_accuracy: 0.8374 - val_loss: 0.5701 - val_categorical_accuracy: 0.8167\n",
      "\n",
      "Epoch 00008: saving model to model_init_2020-08-1613_51_03.807948/model-00008-0.51419-0.83737-0.57012-0.81667.h5\n",
      "Epoch 9/10\n",
      "17/17 [==============================] - 37s 2s/step - loss: 0.4620 - categorical_accuracy: 0.8097 - val_loss: 0.6540 - val_categorical_accuracy: 0.8000\n",
      "\n",
      "Epoch 00009: saving model to model_init_2020-08-1613_51_03.807948/model-00009-0.46195-0.80969-0.65403-0.80000.h5\n",
      "Epoch 10/10\n",
      "17/17 [==============================] - 36s 2s/step - loss: 0.4963 - categorical_accuracy: 0.8166 - val_loss: 0.7034 - val_categorical_accuracy: 0.7833\n",
      "\n",
      "Epoch 00010: saving model to model_init_2020-08-1613_51_03.807948/model-00010-0.49634-0.81661-0.70342-0.78333.h5\n",
      "\n",
      "Epoch 00010: ReduceLROnPlateau reducing learning rate to 1.907348723406699e-09.\n"
     ]
    },
    {
     "data": {
      "text/plain": [
       "<keras.callbacks.History at 0x7f9643802438>"
      ]
     },
     "execution_count": 19,
     "metadata": {},
     "output_type": "execute_result"
    }
   ],
   "source": [
    "batch_size = 40\n",
    "num_epochs = 10\n",
    "\n",
    "\n",
    "train_generator = generator(train_path, train_doc, batch_size)\n",
    "val_generator = generator(val_path, val_doc, batch_size)\n",
    "\n",
    "model.fit_generator(train_generator, steps_per_epoch=steps_per_epoch, epochs=num_epochs, verbose=1, \n",
    "                    callbacks=callbacks_list, validation_data=val_generator, \n",
    "                    validation_steps=validation_steps, class_weight=None, workers=1, initial_epoch=0)"
   ]
  },
  {
   "cell_type": "markdown",
   "metadata": {},
   "source": [
    "### Experiment 6 - Final Model"
   ]
  },
  {
   "cell_type": "code",
   "execution_count": 20,
   "metadata": {},
   "outputs": [
    {
     "name": "stdout",
     "output_type": "stream",
     "text": [
      "Source path =  Project_data/val ; batch size = 40\n",
      "Source path =  Project_data/train ; batch size = 40\n",
      "Epoch 1/30\n"
     ]
    },
    {
     "name": "stderr",
     "output_type": "stream",
     "text": [
      "/mnt/disks/user/anaconda3/lib/python3.6/site-packages/ipykernel_launcher.py:13: DeprecationWarning: `imread` is deprecated!\n",
      "`imread` is deprecated in SciPy 1.0.0, and will be removed in 1.2.0.\n",
      "Use ``imageio.imread`` instead.\n",
      "  del sys.path[0]\n",
      "/mnt/disks/user/anaconda3/lib/python3.6/site-packages/ipykernel_launcher.py:5: DeprecationWarning: `imresize` is deprecated!\n",
      "`imresize` is deprecated in SciPy 1.0.0, and will be removed in 1.2.0.\n",
      "Use ``skimage.transform.resize`` instead.\n",
      "  \"\"\"\n"
     ]
    },
    {
     "name": "stdout",
     "output_type": "stream",
     "text": [
      " 2/17 [==>...........................] - ETA: 1:36 - loss: 0.4868 - categorical_accuracy: 0.8500"
     ]
    },
    {
     "name": "stderr",
     "output_type": "stream",
     "text": [
      "/mnt/disks/user/anaconda3/lib/python3.6/site-packages/ipykernel_launcher.py:34: DeprecationWarning: `imread` is deprecated!\n",
      "`imread` is deprecated in SciPy 1.0.0, and will be removed in 1.2.0.\n",
      "Use ``imageio.imread`` instead.\n"
     ]
    },
    {
     "name": "stdout",
     "output_type": "stream",
     "text": [
      "17/17 [==============================] - 86s 5s/step - loss: 0.5970 - categorical_accuracy: 0.8027 - val_loss: 0.9128 - val_categorical_accuracy: 0.6500\n",
      "\n",
      "Epoch 00001: saving model to model_init_2020-08-1613_51_03.807948/model-00001-0.53728-0.81900-0.91283-0.65000.h5\n",
      "Epoch 2/30\n",
      "17/17 [==============================] - 51s 3s/step - loss: 0.4854 - categorical_accuracy: 0.8338 - val_loss: 0.7295 - val_categorical_accuracy: 0.7500\n",
      "\n",
      "Epoch 00002: saving model to model_init_2020-08-1613_51_03.807948/model-00002-0.48535-0.83376-0.72952-0.75000.h5\n",
      "Epoch 3/30\n",
      "17/17 [==============================] - 43s 3s/step - loss: 0.5988 - categorical_accuracy: 0.8061 - val_loss: 0.6023 - val_categorical_accuracy: 0.8000\n",
      "\n",
      "Epoch 00003: saving model to model_init_2020-08-1613_51_03.807948/model-00003-0.58266-0.81199-0.60226-0.80000.h5\n",
      "Epoch 4/30\n",
      "17/17 [==============================] - 39s 2s/step - loss: 0.5055 - categorical_accuracy: 0.8080 - val_loss: 0.6366 - val_categorical_accuracy: 0.7833\n",
      "\n",
      "Epoch 00004: saving model to model_init_2020-08-1613_51_03.807948/model-00004-0.50548-0.80805-0.63656-0.78333.h5\n",
      "Epoch 5/30\n",
      "17/17 [==============================] - 41s 2s/step - loss: 0.5909 - categorical_accuracy: 0.7529 - val_loss: 0.6391 - val_categorical_accuracy: 0.8333\n",
      "\n",
      "Epoch 00005: saving model to model_init_2020-08-1613_51_03.807948/model-00005-0.58782-0.75399-0.63911-0.83333.h5\n",
      "\n",
      "Epoch 00005: ReduceLROnPlateau reducing learning rate to 9.536743617033494e-10.\n",
      "Epoch 6/30\n",
      "17/17 [==============================] - 35s 2s/step - loss: 0.4435 - categorical_accuracy: 0.8408 - val_loss: 0.6551 - val_categorical_accuracy: 0.7667\n",
      "\n",
      "Epoch 00006: saving model to model_init_2020-08-1613_51_03.807948/model-00006-0.44346-0.84083-0.65505-0.76667.h5\n",
      "Epoch 7/30\n",
      "17/17 [==============================] - 37s 2s/step - loss: 0.4795 - categorical_accuracy: 0.8304 - val_loss: 0.6380 - val_categorical_accuracy: 0.8167\n",
      "\n",
      "Epoch 00007: saving model to model_init_2020-08-1613_51_03.807948/model-00007-0.47950-0.83045-0.63799-0.81667.h5\n",
      "\n",
      "Epoch 00007: ReduceLROnPlateau reducing learning rate to 4.768371808516747e-10.\n",
      "Epoch 8/30\n",
      "17/17 [==============================] - 35s 2s/step - loss: 0.4977 - categorical_accuracy: 0.8131 - val_loss: 0.6487 - val_categorical_accuracy: 0.7833\n",
      "\n",
      "Epoch 00008: saving model to model_init_2020-08-1613_51_03.807948/model-00008-0.49773-0.81315-0.64867-0.78333.h5\n",
      "Epoch 9/30\n",
      "17/17 [==============================] - 37s 2s/step - loss: 0.4590 - categorical_accuracy: 0.8374 - val_loss: 0.6703 - val_categorical_accuracy: 0.7833\n",
      "\n",
      "Epoch 00009: saving model to model_init_2020-08-1613_51_03.807948/model-00009-0.45896-0.83737-0.67034-0.78333.h5\n",
      "\n",
      "Epoch 00009: ReduceLROnPlateau reducing learning rate to 2.3841859042583735e-10.\n",
      "Epoch 10/30\n",
      "17/17 [==============================] - 36s 2s/step - loss: 0.4732 - categorical_accuracy: 0.8235 - val_loss: 0.6678 - val_categorical_accuracy: 0.8000\n",
      "\n",
      "Epoch 00010: saving model to model_init_2020-08-1613_51_03.807948/model-00010-0.47316-0.82353-0.66777-0.80000.h5\n",
      "Epoch 11/30\n",
      "17/17 [==============================] - 36s 2s/step - loss: 0.4964 - categorical_accuracy: 0.8201 - val_loss: 0.6458 - val_categorical_accuracy: 0.8167\n",
      "\n",
      "Epoch 00011: saving model to model_init_2020-08-1613_51_03.807948/model-00011-0.49645-0.82007-0.64578-0.81667.h5\n",
      "\n",
      "Epoch 00011: ReduceLROnPlateau reducing learning rate to 1.1920929521291868e-10.\n",
      "Epoch 12/30\n",
      "17/17 [==============================] - 38s 2s/step - loss: 0.5126 - categorical_accuracy: 0.7958 - val_loss: 0.7540 - val_categorical_accuracy: 0.7500\n",
      "\n",
      "Epoch 00012: saving model to model_init_2020-08-1613_51_03.807948/model-00012-0.51263-0.79585-0.75405-0.75000.h5\n",
      "Epoch 13/30\n",
      "17/17 [==============================] - 36s 2s/step - loss: 0.4808 - categorical_accuracy: 0.8166 - val_loss: 0.5913 - val_categorical_accuracy: 0.8833\n",
      "\n",
      "Epoch 00013: saving model to model_init_2020-08-1613_51_03.807948/model-00013-0.48077-0.81661-0.59125-0.88333.h5\n",
      "Epoch 14/30\n",
      "17/17 [==============================] - 36s 2s/step - loss: 0.4817 - categorical_accuracy: 0.8097 - val_loss: 0.6007 - val_categorical_accuracy: 0.8000\n",
      "\n",
      "Epoch 00014: saving model to model_init_2020-08-1613_51_03.807948/model-00014-0.48174-0.80969-0.60068-0.80000.h5\n",
      "Epoch 15/30\n",
      "17/17 [==============================] - 34s 2s/step - loss: 0.4910 - categorical_accuracy: 0.8062 - val_loss: 0.7178 - val_categorical_accuracy: 0.7500\n",
      "\n",
      "Epoch 00015: saving model to model_init_2020-08-1613_51_03.807948/model-00015-0.49102-0.80623-0.71775-0.75000.h5\n",
      "\n",
      "Epoch 00015: ReduceLROnPlateau reducing learning rate to 5.960464760645934e-11.\n",
      "Epoch 16/30\n",
      "17/17 [==============================] - 38s 2s/step - loss: 0.4309 - categorical_accuracy: 0.8512 - val_loss: 0.6130 - val_categorical_accuracy: 0.8167\n",
      "\n",
      "Epoch 00016: saving model to model_init_2020-08-1613_51_03.807948/model-00016-0.43092-0.85121-0.61298-0.81667.h5\n",
      "Epoch 17/30\n",
      "17/17 [==============================] - 36s 2s/step - loss: 0.5512 - categorical_accuracy: 0.8097 - val_loss: 0.6200 - val_categorical_accuracy: 0.8167\n",
      "\n",
      "Epoch 00017: saving model to model_init_2020-08-1613_51_03.807948/model-00017-0.55117-0.80969-0.61995-0.81667.h5\n",
      "\n",
      "Epoch 00017: ReduceLROnPlateau reducing learning rate to 2.980232380322967e-11.\n",
      "Epoch 18/30\n",
      "17/17 [==============================] - 36s 2s/step - loss: 0.4571 - categorical_accuracy: 0.8443 - val_loss: 0.7202 - val_categorical_accuracy: 0.7667\n",
      "\n",
      "Epoch 00018: saving model to model_init_2020-08-1613_51_03.807948/model-00018-0.45706-0.84429-0.72025-0.76667.h5\n",
      "Epoch 19/30\n",
      "17/17 [==============================] - 37s 2s/step - loss: 0.5052 - categorical_accuracy: 0.8166 - val_loss: 0.6998 - val_categorical_accuracy: 0.7833\n",
      "\n",
      "Epoch 00019: saving model to model_init_2020-08-1613_51_03.807948/model-00019-0.50518-0.81661-0.69981-0.78333.h5\n",
      "\n",
      "Epoch 00019: ReduceLROnPlateau reducing learning rate to 1.4901161901614834e-11.\n",
      "Epoch 20/30\n",
      "17/17 [==============================] - 35s 2s/step - loss: 0.4904 - categorical_accuracy: 0.8166 - val_loss: 0.6810 - val_categorical_accuracy: 0.8000\n",
      "\n",
      "Epoch 00020: saving model to model_init_2020-08-1613_51_03.807948/model-00020-0.49042-0.81661-0.68097-0.80000.h5\n",
      "Epoch 21/30\n",
      "17/17 [==============================] - 35s 2s/step - loss: 0.5640 - categorical_accuracy: 0.8166 - val_loss: 0.5575 - val_categorical_accuracy: 0.8333\n",
      "\n",
      "Epoch 00021: saving model to model_init_2020-08-1613_51_03.807948/model-00021-0.56400-0.81661-0.55751-0.83333.h5\n",
      "Epoch 22/30\n",
      "17/17 [==============================] - 37s 2s/step - loss: 0.4508 - categorical_accuracy: 0.8339 - val_loss: 0.7067 - val_categorical_accuracy: 0.8000\n",
      "\n",
      "Epoch 00022: saving model to model_init_2020-08-1613_51_03.807948/model-00022-0.45076-0.83391-0.70671-0.80000.h5\n",
      "Epoch 23/30\n",
      "17/17 [==============================] - 37s 2s/step - loss: 0.4636 - categorical_accuracy: 0.8339 - val_loss: 0.5893 - val_categorical_accuracy: 0.7667\n",
      "\n",
      "Epoch 00023: saving model to model_init_2020-08-1613_51_03.807948/model-00023-0.46357-0.83391-0.58929-0.76667.h5\n",
      "\n",
      "Epoch 00023: ReduceLROnPlateau reducing learning rate to 7.450580950807417e-12.\n",
      "Epoch 24/30\n",
      "17/17 [==============================] - 36s 2s/step - loss: 0.5030 - categorical_accuracy: 0.7889 - val_loss: 0.6593 - val_categorical_accuracy: 0.8333\n",
      "\n",
      "Epoch 00024: saving model to model_init_2020-08-1613_51_03.807948/model-00024-0.50295-0.78893-0.65929-0.83333.h5\n",
      "Epoch 25/30\n",
      "17/17 [==============================] - 35s 2s/step - loss: 0.4812 - categorical_accuracy: 0.8201 - val_loss: 0.6746 - val_categorical_accuracy: 0.7667\n",
      "\n",
      "Epoch 00025: saving model to model_init_2020-08-1613_51_03.807948/model-00025-0.48116-0.82007-0.67463-0.76667.h5\n",
      "\n",
      "Epoch 00025: ReduceLROnPlateau reducing learning rate to 3.725290475403709e-12.\n",
      "Epoch 26/30\n",
      "17/17 [==============================] - 37s 2s/step - loss: 0.4740 - categorical_accuracy: 0.8270 - val_loss: 0.6476 - val_categorical_accuracy: 0.8333\n",
      "\n",
      "Epoch 00026: saving model to model_init_2020-08-1613_51_03.807948/model-00026-0.47404-0.82699-0.64757-0.83333.h5\n",
      "Epoch 27/30\n",
      "17/17 [==============================] - 34s 2s/step - loss: 0.4538 - categorical_accuracy: 0.8408 - val_loss: 0.5622 - val_categorical_accuracy: 0.8167\n",
      "\n",
      "Epoch 00027: saving model to model_init_2020-08-1613_51_03.807948/model-00027-0.45377-0.84083-0.56222-0.81667.h5\n",
      "\n",
      "Epoch 00027: ReduceLROnPlateau reducing learning rate to 1.8626452377018543e-12.\n",
      "Epoch 28/30\n"
     ]
    },
    {
     "name": "stdout",
     "output_type": "stream",
     "text": [
      "17/17 [==============================] - 37s 2s/step - loss: 0.5353 - categorical_accuracy: 0.8131 - val_loss: 0.6782 - val_categorical_accuracy: 0.8333\n",
      "\n",
      "Epoch 00028: saving model to model_init_2020-08-1613_51_03.807948/model-00028-0.53533-0.81315-0.67816-0.83333.h5\n",
      "Epoch 29/30\n",
      "17/17 [==============================] - 35s 2s/step - loss: 0.4954 - categorical_accuracy: 0.8131 - val_loss: 0.6592 - val_categorical_accuracy: 0.7500\n",
      "\n",
      "Epoch 00029: saving model to model_init_2020-08-1613_51_03.807948/model-00029-0.49544-0.81315-0.65921-0.75000.h5\n",
      "\n",
      "Epoch 00029: ReduceLROnPlateau reducing learning rate to 9.313226188509272e-13.\n",
      "Epoch 30/30\n",
      "17/17 [==============================] - 36s 2s/step - loss: 0.5015 - categorical_accuracy: 0.8062 - val_loss: 0.6229 - val_categorical_accuracy: 0.8500\n",
      "\n",
      "Epoch 00030: saving model to model_init_2020-08-1613_51_03.807948/model-00030-0.50154-0.80623-0.62290-0.85000.h5\n"
     ]
    },
    {
     "data": {
      "text/plain": [
       "<keras.callbacks.History at 0x7f95dfa0e128>"
      ]
     },
     "execution_count": 20,
     "metadata": {},
     "output_type": "execute_result"
    }
   ],
   "source": [
    "batch_size = 40\n",
    "num_epochs = 30\n",
    "\n",
    "\n",
    "train_generator = generator(train_path, train_doc, batch_size)\n",
    "val_generator = generator(val_path, val_doc, batch_size)\n",
    "\n",
    "model.fit_generator(train_generator, steps_per_epoch=steps_per_epoch, epochs=num_epochs, verbose=1, \n",
    "                    callbacks=callbacks_list, validation_data=val_generator, \n",
    "                    validation_steps=validation_steps, class_weight=None, workers=1, initial_epoch=0)"
   ]
  },
  {
   "cell_type": "code",
   "execution_count": null,
   "metadata": {},
   "outputs": [],
   "source": []
  }
 ],
 "metadata": {
  "kernelspec": {
   "display_name": "Python 3",
   "language": "python",
   "name": "python3"
  },
  "language_info": {
   "codemirror_mode": {
    "name": "ipython",
    "version": 3
   },
   "file_extension": ".py",
   "mimetype": "text/x-python",
   "name": "python",
   "nbconvert_exporter": "python",
   "pygments_lexer": "ipython3",
   "version": "3.7.7"
  }
 },
 "nbformat": 4,
 "nbformat_minor": 2
}
